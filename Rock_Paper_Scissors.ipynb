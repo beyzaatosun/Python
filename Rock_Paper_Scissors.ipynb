{
 "cells": [
  {
   "cell_type": "code",
   "execution_count": 1,
   "id": "e5a24e06-1ced-46c5-9f32-c8ad039edbdb",
   "metadata": {},
   "outputs": [],
   "source": [
    "import random "
   ]
  },
  {
   "cell_type": "code",
   "execution_count": 2,
   "id": "98e90435-b428-49cf-beea-2de1773cbf6e",
   "metadata": {},
   "outputs": [
    {
     "name": "stdout",
     "output_type": "stream",
     "text": [
      "Winning rules of the game ROCK PAPER SCISSORS are:\n",
      "Rock vs Paper -> Paper wins \n",
      "Rock vs Scissors -> Rock wins \n",
      "Paper vs Scissors -> Scissors wins \n",
      "\n"
     ]
    }
   ],
   "source": [
    "print('Winning rules of the game ROCK PAPER SCISSORS are:\\n'\n",
    "      + \"Rock vs Paper -> Paper wins \\n\"\n",
    "      + \"Rock vs Scissors -> Rock wins \\n\"\n",
    "      + \"Paper vs Scissors -> Scissors wins \\n\")"
   ]
  },
  {
   "cell_type": "code",
   "execution_count": 59,
   "id": "a6c248f0-5a13-4d10-b1cd-db3d304dd9f9",
   "metadata": {},
   "outputs": [
    {
     "name": "stdout",
     "output_type": "stream",
     "text": [
      "choice: \n",
      " 1 - Rock \n",
      " 2 - Paper \n",
      " 3 - Scissors \n",
      "\n"
     ]
    },
    {
     "name": "stdin",
     "output_type": "stream",
     "text": [
      "Enter your choice:  3\n"
     ]
    },
    {
     "name": "stdout",
     "output_type": "stream",
     "text": [
      "Computer's choice: 1\n",
      "Computer wins\n",
      "Do you want to play again? (Y/N)\n"
     ]
    },
    {
     "name": "stdin",
     "output_type": "stream",
     "text": [
      " n\n"
     ]
    },
    {
     "name": "stdout",
     "output_type": "stream",
     "text": [
      "Thanks for playing!\n"
     ]
    }
   ],
   "source": [
    "while True:\n",
    "    print(\"choice: \\n 1 - Rock \\n 2 - Paper \\n 3 - Scissors \\n\")\n",
    "    \n",
    "    try:\n",
    "        player_choice = int(input(\"Enter your choice: \"))\n",
    "        if player_choice not in [1, 2, 3]:\n",
    "            print(\"Invalid choice! Please enter 1, 2, or 3.\\n\")\n",
    "            continue\n",
    "    except ValueError:\n",
    "        print(\"Invalid input! Please enter a valid number (1, 2, or 3).\\n\")\n",
    "        continue  \n",
    "    \n",
    "    # Computer's choice\n",
    "    comp_choice = random.randint(1, 3)\n",
    "    print(\"Computer's choice:\", comp_choice)\n",
    "\n",
    "    # Determine the result\n",
    "    if player_choice == comp_choice:\n",
    "        result = \"Tie\"\n",
    "    elif (player_choice == 1 and comp_choice == 3) or (player_choice == 2 and comp_choice == 1) or (player_choice == 3 and comp_choice == 2):\n",
    "        result = \"Player wins\"\n",
    "    else:\n",
    "        result = \"Computer wins\"\n",
    "\n",
    "    # Output the result\n",
    "    print(result)\n",
    "\n",
    "    # Ask if the user wants to play again\n",
    "    while True:\n",
    "        try:\n",
    "            print(\"Do you want to play again? (Y/N)\")\n",
    "            ans = input().lower()\n",
    "            if ans == 'n':\n",
    "                print(\"Thanks for playing!\")\n",
    "                break  # Breaks the inner loop\n",
    "            elif ans == 'y':\n",
    "                print(\"Again!\")\n",
    "                break  # Breaks the inner loop to continue playing\n",
    "            else:\n",
    "                print(\"Invalid input! Please enter 'Y' for Yes or 'N' for No.\")\n",
    "        except ValueError:\n",
    "            print(\"Invalid input! Please enter 'Y' for Yes or 'N' for No\")\n",
    "\n",
    "    # If the player chooses 'n', break out of the outer loop\n",
    "    if ans == 'n':\n",
    "        break\n"
   ]
  },
  {
   "cell_type": "code",
   "execution_count": null,
   "id": "4f51e58f-2063-45e3-ba09-6193d09f2268",
   "metadata": {},
   "outputs": [],
   "source": []
  }
 ],
 "metadata": {
  "kernelspec": {
   "display_name": "Python 3 (ipykernel)",
   "language": "python",
   "name": "python3"
  },
  "language_info": {
   "codemirror_mode": {
    "name": "ipython",
    "version": 3
   },
   "file_extension": ".py",
   "mimetype": "text/x-python",
   "name": "python",
   "nbconvert_exporter": "python",
   "pygments_lexer": "ipython3",
   "version": "3.11.9"
  }
 },
 "nbformat": 4,
 "nbformat_minor": 5
}
